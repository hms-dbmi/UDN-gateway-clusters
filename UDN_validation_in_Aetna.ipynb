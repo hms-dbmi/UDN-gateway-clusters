{
 "cells": [
  {
   "cell_type": "markdown",
   "metadata": {},
   "source": [
    "# UDN validation in Aetna DB\n",
    "\n",
    "## Load the R libraries"
   ]
  },
  {
   "cell_type": "code",
   "execution_count": null,
   "metadata": {
    "collapsed": true
   },
   "outputs": [],
   "source": [
    "library(\"devtools\")\n",
    "library(\"SqlServerJtds\")\n",
    "library(\"SqlTools\")\n",
    "library(\"FactToCube\")\n",
    "library(\"dplyr\")"
   ]
  },
  {
   "cell_type": "markdown",
   "metadata": {},
   "source": [
    "## Set up the connection the the DB server"
   ]
  },
  {
   "cell_type": "code",
   "execution_count": null,
   "metadata": {
    "collapsed": false
   },
   "outputs": [],
   "source": [
    "cn = connect.sql.server(\n",
    "    database=\"XXXX\",\n",
    "    domain=\"YYYY\",\n",
    "    server.address=\"ZZZZ\",\n",
    "    user= yourUserName,\n",
    "    password= yourPassword)\n",
    "cn"
   ]
  },
  {
   "cell_type": "markdown",
   "metadata": {},
   "source": [
    "## Create the table to map from HPO to PheCode\n",
    "Extracted from the Supplementary Material of: \"Bastarache, L., Hughey, J.J., Hebbring, S., Marlo, J., Zhao, W., Ho, W.T., Van Driest, S.L., McGregor, T.L., Mosley, J.D., Wells, Q.S. and Temple, M., 2018. Phenotype risk scores identify patients with unrecognized Mendelian disease patterns. Science, 359(6381), pp.1233-1239.\"\n",
    "\n",
    "### Mapping limitations\n",
    "- Many of the mapped pairs were not exact matches. \n",
    "- Most often, the HPO term was more specific than the mapped phecode\n",
    "(e.g. HPO term “neurogenic bladder” is mapped to the phecode for “functional disorders of bladder”)\n",
    "- In some instances, the best available PheCode was narrower than its corresponding HPO term (e.g., the HPO term “retinopathy” is mapped to the phecode for “nondiabetic retinopathy”)\n",
    "\n",
    "2,358 HPO terms did not map to phecodes, either because HPO term was too specific to be ascertained by claims data (e.g., “depletion of mitochondrial DNA in liver”)\n",
    "too general (e.g., “abnormality of the kidney”)\n",
    "pertained to non-pathogenic variation not typically captured in a medical setting (e.g., “thin clavicles”)\n",
    "\n",
    "### Read the file that maps from HPO to PheCode"
   ]
  },
  {
   "cell_type": "code",
   "execution_count": null,
   "metadata": {
    "collapsed": true
   },
   "outputs": [],
   "source": [
    "hpoToPhecode <- read.delim(\"hpoToPhecode.txt\", colClasses = \"character\")\n",
    "hpoToPhecode <- hpoToPhecode[, c(6,2,3,4)]\n",
    "colnames(hpoToPhecode) <- c(\"HpoCode\", \"HpoTerm\", \"PheCode\", \"PheCodeTerm\")\n",
    "dim(hpoToPhecode[ hpoToPhecode$PheCode == \"\", ])\n",
    "hpoToPhecode <- hpoToPhecode[ hpoToPhecode$PheCode != \"\", ]"
   ]
  },
  {
   "cell_type": "markdown",
   "metadata": {},
   "source": [
    "### Read the files mapping from PheCode to ICD9-CM and ICD10-CM\n",
    "We extracted these files from https://phewascatalog.org/"
   ]
  },
  {
   "cell_type": "code",
   "execution_count": null,
   "metadata": {
    "collapsed": true
   },
   "outputs": [],
   "source": [
    "icd9tophewas <- read.delim(\"phecode_icd9_rolled.csv\", \n",
    "                           colClasses = \"character\",\n",
    "                           sep=\",\", \n",
    "                           header=TRUE)\n",
    "icd9tophewas <- icd9tophewas[, c(1:3)]\n",
    "colnames(icd9tophewas)[2] <- \"ICD9description\"\n",
    "\n",
    "icd10tophewas <- read.delim(\"Phecode_map_v1_2_icd10cm_beta.csv\", \n",
    "                           colClasses = \"character\",\n",
    "                           sep=\",\", \n",
    "                           header=TRUE)\n",
    "icd10tophewas <- icd10tophewas[, c(1:3)]\n",
    "colnames(icd10tophewas) <- c(\"ICD10\",\"ICD10description\", \"PheCode\")\n",
    "\n",
    "mappingHpoICD9 <- inner_join( icd9tophewas, hpoToPhecode)\n",
    "mappingHpoICD9 <- mappingHpoICD9[, c(1,2,4,5,3,6)]\n",
    "colnames(mappingHpoICD9) <- c(\"ICD\", \"ICDdescription\", \"HpoCode\", \"HpoDescription\", \"PheCode\", \"PheCodeDescription\")\n",
    "mappingHpoICD9$version <- 9\n",
    "\n",
    "mappingHpoICD10 <- inner_join( icd10tophewas, hpoToPhecode)\n",
    "mappingHpoICD10 <- mappingHpoICD10[, c(1,2,4,5,3,6)]\n",
    "colnames(mappingHpoICD10) <- c(\"ICD\", \"ICDdescription\", \"HpoCode\", \"HpoDescription\", \"PheCode\", \"PheCodeDescription\")\n",
    "mappingHpoICD10$version <- 10\n",
    "\n",
    "hpoToPhecodeToICD <- rbind( mappingHpoICD9, mappingHpoICD10)"
   ]
  },
  {
   "cell_type": "markdown",
   "metadata": {},
   "source": [
    "### Create a SQL table with the mapping from HPO to ICD9 and ICD10 through PheCode\n",
    "This mapping table contains:\n",
    "- 875 PheCodes\n",
    "- 3,403 HpoCodes\n",
    "- 6,812 ICD9-CM codes\n",
    "- 25,700 ICD10-CM codes"
   ]
  },
  {
   "cell_type": "code",
   "execution_count": null,
   "metadata": {
    "collapsed": true
   },
   "outputs": [],
   "source": [
    "dbSendUpdate( cn, \"DROP TABLE XXX.dbo.hpoToPhecodeToICD\")\n",
    "dbWriteTable( cnag, \"hpoToPhecodeToICD\", hpoToPhecodeToICD, row.names = FALSE)"
   ]
  },
  {
   "cell_type": "markdown",
   "metadata": {},
   "source": [
    "## 1. Aetna patients with at least one of the map codes\n",
    "Create a temporal table with all the patients from 0 to 18 years old that have at least one ICD9 or ICD10 code that map to a HPO term. "
   ]
  },
  {
   "cell_type": "code",
   "execution_count": null,
   "metadata": {
    "collapsed": true
   },
   "outputs": [],
   "source": [
    "dbSendUpdate(cn, \"DROP TABLE #tmpAllIcd\")\n",
    "dbSendUpdate( cn, \"SELECT DISTINCT F.MemberId, F.Icd, F.DateServiceStarted, M.Gender, M.BirthYear, (YEAR( F.DateServiceStarted ) - M.BirthYear) AS Age\n",
    "INTO #tmpAllIcd\n",
    "FROM FactIcd F\n",
    "INNER JOIN Members M ON\n",
    "F.MemberId=M.MemberId\n",
    "WHERE\n",
    "F.Icd IN (SELECT ICD FROM ag440.dbo.hpoToPhecodeToICD)\n",
    "AND \n",
    "(YEAR( F.DateServiceStarted ) - M.BirthYear) < 18\n",
    "AND \n",
    "(YEAR( F.DateServiceStarted ) - M.BirthYear) >= 0\n",
    "AND IcdVersion IN ('9', '10')\n",
    "\")\n",
    "\n",
    "dbSendUpdate( cn, \"CREATE CLUSTERED INDEX idxPk ON #tmpAllIcd (MemberId, Icd, Age) WITH (DATA_COMPRESSION=PAGE)\" )"
   ]
  },
  {
   "cell_type": "markdown",
   "metadata": {},
   "source": [
    "## 2. Filtering by months of coverage\n",
    "For the previous patients, select those that between 0 to 18 years old they have more than 12 months of coverage on the database with some ICD9 or ICD10 code and with the gender defined as M or F. "
   ]
  },
  {
   "cell_type": "code",
   "execution_count": null,
   "metadata": {
    "collapsed": true
   },
   "outputs": [],
   "source": [
    "dbSendUpdate( cn, \"SELECT\n",
    "             E.MemberId, COUNT(DISTINCT E.EffectiveDate) AS nMonthsObservation\n",
    "             INTO #tmpAllMemberCount\n",
    "             FROM\n",
    "             Enrollment E\n",
    "             INNER JOIN Members M ON\n",
    "             E.MemberId=M.MemberId\n",
    "             INNER JOIN #tmpAllIcd C ON\n",
    "             M.MemberId=C.MemberId\n",
    "             WHERE\n",
    "             E.MedicalIndicator = 'Y'\n",
    "             AND (YEAR(E.EffectiveDate) - M.BirthYear) < 18\n",
    "             AND (YEAR(E.EffectiveDate) - M.BirthYear) >= 0\n",
    "             AND (M.Gender = 'F' OR M.Gender = 'M') \n",
    "             GROUP BY E.MemberId\n",
    "             HAVING COUNT( DISTINCT E.EffectiveDate ) > 12\")"
   ]
  },
  {
   "cell_type": "markdown",
   "metadata": {},
   "source": [
    "## 3. Generate a table with members and ICD codes\n",
    "Based on the two previous temporal tables generate a final table with those patients in common. We are only interested in the ICD codes, so we will not keep the rest of information. "
   ]
  },
  {
   "cell_type": "code",
   "execution_count": null,
   "metadata": {
    "collapsed": true
   },
   "outputs": [],
   "source": [
    "dbSendUpdate( cn, \"SELECT MemberId, Icd \n",
    "                    INTO ag440.dbo.completeHpoTable0to17\n",
    "                    FROM #tmpAllIcd \n",
    "                    WHERE MemberId IN ( SELECT MemberId FROM #tmpAllMemberCount) GROUP BY MemberId, Icd\")"
   ]
  },
  {
   "cell_type": "markdown",
   "metadata": {},
   "source": [
    "## 4. Add the corresponding HPO term for each ICD code"
   ]
  },
  {
   "cell_type": "code",
   "execution_count": null,
   "metadata": {
    "collapsed": true
   },
   "outputs": [],
   "source": [
    "dbSendUpdate( cn, \"DROP TABLE ag440.dbo.completeHpoTable0to17Mapped\" )\n",
    "dbSendUpdate( cn, \"SELECT T.MemberId, T.Icd, M.HpoCode\n",
    "                    INTO ag440.dbo.completeHpoTable0to17Mapped\n",
    "                    FROM ag440.dbo.completeHpoTable0to17 T\n",
    "                    INNER JOIN ag440.dbo.hpoToPhecodeToICD M ON T.Icd = M.ICD\")\n",
    "\n",
    "#remove duplicates\n",
    "dbGetQuery( cn, \"WITH CTE AS(\n",
    "             SELECT *, ROW_NUMBER() \n",
    "             OVER ( PARTITION BY MemberId, Icd, HpoCode \n",
    "             ORDER BY MemberId, Icd, HpoCode) AS RN\n",
    "             FROM\n",
    "             ag440.dbo.completeHpoTable0to17Mapped\n",
    "             )\n",
    "             DELETE FROM CTE WHERE RN<>1\" )\n",
    "\n",
    "#create index\n",
    "dbSendUpdate( cn, \"CREATE CLUSTERED INDEX idxPk \n",
    "                    ON ag440.dbo.completeHpoTable0to17Mapped (MemberId, Icd, HpoCode) \n",
    "                    WITH (DATA_COMPRESSION=PAGE)\" )"
   ]
  },
  {
   "cell_type": "markdown",
   "metadata": {},
   "source": [
    "Once we have the tables created we can run our analysis. The objective is:\n",
    "- check how many patients in Aetna have a list of 5 HPO codes that are the most prevalent in UDN identified clusters\n",
    "- check if it is statistically significant by doing a bootstrp of rando HPO code selection\n",
    "\n",
    "<section data-markdown>\n",
    "                    <img src=\"./generalWorkflow.png\" | width =500/>\n",
    "                </section>\n",
    "                \n",
    "# Bootstrap\n",
    "Random selection of 5 HPO terms and count:\n",
    "- how many patients present the 5 terms\n",
    "- how many patients present 4 of the terms\n",
    "- how many patients present 3 of the terms\n",
    "- how many patients present 2 of the terms\n",
    "- how many patients present 1 of the terms"
   ]
  },
  {
   "cell_type": "code",
   "execution_count": null,
   "metadata": {
    "collapsed": true
   },
   "outputs": [],
   "source": [
    "# First we create an empty data frame\n",
    "myoutputRandom <- as.data.frame( matrix( ncol=6, nrow=1000))\n",
    "colnames( myoutputRandom ) <- c(\"randomHPO\", \"patientsHavingAll\", \"patientsHaving4\", \"patientsHaving3\", \"patientsHaving2\", \"patientsHaving1\")\n",
    "\n",
    "for( i in 1:1000){\n",
    "    \n",
    "    print( i )\n",
    "    \n",
    "    #random selection of 5 HPO codes\n",
    "    dbSendUpdate( cn, \"SELECT TOP 5 HpoCode INTO #randomHpo FROM ag440.dbo.hpoToPhecodeToICD ORDER BY NEWID()\")\n",
    "    \n",
    "    #extract the 5 HPO codes\n",
    "    hpoterms <- dbGetQuery(cn, \"SELECT * FROM #randomHpo \")\n",
    "    \n",
    "    #save them in the first column of our dataframe\n",
    "    myoutputRandom$randomHPO[i] <- paste( hpoterms$HpoCode, collapse = \" - \" )\n",
    "    \n",
    "    \n",
    "    myoutputRandom$patientsHavingAll[i] <- nrow(dbGetQuery( cn, \"SELECT MemberId, COUNT( DISTINCT HpoCode) AS nHPO \n",
    "                                                                    FROM ag440.dbo.completeHpoTable0to17Mapped \n",
    "                                                                    WHERE HpoCode IN \n",
    "                                                                    (SELECT HpoCode FROM #randomHpo) \n",
    "                                                                    GROUP BY MemberId \n",
    "                                                                    HAVING COUNT( DISTINCT HpoCode) = 5\"))\n",
    "\n",
    "   myoutputRandom$patientsHaving4[i] <- nrow(dbGetQuery( cn, \"SELECT MemberId, COUNT( DISTINCT HpoCode) AS nHPO \n",
    "                                                                    FROM ag440.dbo.completeHpoTable0to17Mapped \n",
    "                                                                    WHERE HpoCode IN \n",
    "                                                                    (SELECT HpoCode FROM #randomHpo) \n",
    "                                                                    GROUP BY MemberId \n",
    "                                                                    HAVING COUNT( DISTINCT HpoCode) = 4\"))\n",
    "    \n",
    "    \n",
    "    myoutputRandom$patientsHaving3[i] <- nrow(dbGetQuery( cn, \"SELECT MemberId, COUNT( DISTINCT HpoCode) AS nHPO \n",
    "                                                                    FROM ag440.dbo.completeHpoTable0to17Mapped \n",
    "                                                                    WHERE HpoCode IN \n",
    "                                                                    (SELECT HpoCode FROM #randomHpo) \n",
    "                                                                    GROUP BY MemberId \n",
    "                                                                    HAVING COUNT( DISTINCT HpoCode) = 3\"))\n",
    "    \n",
    "    myoutputRandom$patientsHaving2[i] <- nrow(dbGetQuery( cn, \"SELECT MemberId, COUNT( DISTINCT HpoCode) AS nHPO \n",
    "                                                                    FROM ag440.dbo.completeHpoTable0to17Mapped \n",
    "                                                                    WHERE HpoCode IN \n",
    "                                                                    (SELECT HpoCode FROM #randomHpo) \n",
    "                                                                    GROUP BY MemberId \n",
    "                                                                    HAVING COUNT( DISTINCT HpoCode) = 2\"))\n",
    "    \n",
    "    myoutputRandom$patientsHaving1[i] <- nrow(dbGetQuery( cn, \"SELECT MemberId, COUNT( DISTINCT HpoCode) AS nHPO \n",
    "                                                                    FROM ag440.dbo.completeHpoTable0to17Mapped \n",
    "                                                                    WHERE HpoCode IN \n",
    "                                                                    (SELECT HpoCode FROM #randomHpo) \n",
    "                                                                    GROUP BY MemberId \n",
    "                                                                    HAVING COUNT( DISTINCT HpoCode) = 1\"))\n",
    "    dbSendUpdate( cn, \"DROP TABLE #randomHpo\")\n",
    "\n",
    "}\n",
    "\n",
    "#save the data frame with the HPO codes and the counts\n",
    "save(myoutputRandom, file=\"1000randomHPOselectionNumbers.RData\")"
   ]
  }
 ],
 "metadata": {
  "kernelspec": {
   "display_name": "R",
   "language": "R",
   "name": "ir"
  },
  "language_info": {
   "codemirror_mode": "r",
   "file_extension": ".r",
   "mimetype": "text/x-r-source",
   "name": "R",
   "pygments_lexer": "r",
   "version": "3.3.1"
  }
 },
 "nbformat": 4,
 "nbformat_minor": 1
}
